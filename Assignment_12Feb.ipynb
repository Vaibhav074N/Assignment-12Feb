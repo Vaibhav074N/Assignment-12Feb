{
  "nbformat": 4,
  "nbformat_minor": 0,
  "metadata": {
    "colab": {
      "provenance": [],
      "authorship_tag": "ABX9TyNZVTmpwDSAlHSXhHQGQ0I6",
      "include_colab_link": true
    },
    "kernelspec": {
      "name": "python3",
      "display_name": "Python 3"
    },
    "language_info": {
      "name": "python"
    }
  },
  "cells": [
    {
      "cell_type": "markdown",
      "metadata": {
        "id": "view-in-github",
        "colab_type": "text"
      },
      "source": [
        "<a href=\"https://colab.research.google.com/github/Vaibhav074N/Assignment-12Feb/blob/main/Assignment_12Feb.ipynb\" target=\"_parent\"><img src=\"https://colab.research.google.com/assets/colab-badge.svg\" alt=\"Open In Colab\"/></a>"
      ]
    },
    {
      "cell_type": "markdown",
      "source": [
        "#####Q1\n",
        "#####Ans:\n",
        "##### Exception occurs during execution of program that disrupts the normal flow of program instructions.\n",
        "##### Exception-Handling : It is a process of responding to unwanted or unexpected events when a computer program runs. Exception handling deals with these events to avoid the program or system crashing, and without this process, exception would disrupt the normal operation of a program.\n",
        "##### The key difference between Exceptions and syntax errors in Python is that Exceptions occur during the runtime of a program, while syntax errors occur before the program is executed. Syntax errors are caused by invalid Python code and can be identified by the interpreter before the program is run. ex: comma(,),invalid syntax etc.\n",
        "##### Exceptions can occur even if the syntax of the code is correct, but an error arises during the execution of the program due to issues like invalid input, incorrect logic, or runtime environment issues. "
      ],
      "metadata": {
        "id": "MStnzf1b-_WZ"
      }
    },
    {
      "cell_type": "markdown",
      "source": [
        "#####Q2.\n",
        "#####Ans:\n",
        "##### Python has many built in exceptions that are raised when your program encounters an error. When these exception occur, the python interpreter stops the current process and passes it to the calling process until it is handled. If not handled, the program will crash."
      ],
      "metadata": {
        "id": "cJExmS65HXMM"
      }
    },
    {
      "cell_type": "code",
      "execution_count": null,
      "metadata": {
        "colab": {
          "base_uri": "https://localhost:8080/"
        },
        "id": "Rcrt3P0A-vq6",
        "outputId": "d91a1898-e9aa-4a4f-d0a8-40ea38d0917f"
      },
      "outputs": [
        {
          "output_type": "stream",
          "name": "stdout",
          "text": [
            "enter:t\n",
            "Square will notbe excuted. invalid literal for int() with base 10: 't'\n"
          ]
        }
      ],
      "source": [
        "try:\n",
        "  a=int(input('enter:'))\n",
        "  b=int(input('enter:'))\n",
        "  print(a+b)\n",
        "except Exception as e:\n",
        "\n",
        "  print('Addition will not be excuted.',e)\n"
      ]
    },
    {
      "cell_type": "markdown",
      "source": [
        "####Q3.\n",
        "####Ans:\n",
        "#### Try and Except blocks are used to catch and handle exception."
      ],
      "metadata": {
        "id": "cjNyzRloLaNL"
      }
    },
    {
      "cell_type": "code",
      "source": [
        "try:\n",
        "    x = int(input(\"Enter a number: \"))\n",
        "    y = int(input(\"Enter another number: \"))\n",
        "    result = x / y\n",
        "    print(\"Result:\", result)\n",
        "except ValueError:\n",
        "    print(\"Invalid input: Please enter numeric values.\")\n",
        "except ZeroDivisionError:\n",
        "    print(\"Error: division by zero.\")"
      ],
      "metadata": {
        "colab": {
          "base_uri": "https://localhost:8080/"
        },
        "id": "0Dv-JZwXM-qJ",
        "outputId": "dc43df37-0af5-4785-b697-60b3f8748319"
      },
      "execution_count": null,
      "outputs": [
        {
          "output_type": "stream",
          "name": "stdout",
          "text": [
            "Enter a number: k\n",
            "Invalid input: Please enter numeric values.\n"
          ]
        }
      ]
    },
    {
      "cell_type": "markdown",
      "source": [
        "#####Q4.\n"
      ],
      "metadata": {
        "id": "EN2Pybol9z8t"
      }
    },
    {
      "cell_type": "code",
      "source": [
        "try:\n",
        "  l=[1,5,6,7]\n",
        "  i=int(input(\"Enter the index:\"))\n",
        "  print(l[i])\n",
        "except:\n",
        "  print(\"Some error occured\")\n"
      ],
      "metadata": {
        "id": "pSH0gp0NPR8k",
        "colab": {
          "base_uri": "https://localhost:8080/"
        },
        "outputId": "4e1a03af-0d32-4054-ec85-f218acd9f24f"
      },
      "execution_count": 4,
      "outputs": [
        {
          "output_type": "stream",
          "name": "stdout",
          "text": [
            "Enter the index:6\n",
            "Some error occured\n"
          ]
        }
      ]
    },
    {
      "cell_type": "code",
      "source": [
        "from os import XATTR_CREATE\n",
        "def f():\n",
        "  try:\n",
        "    l=[2,4,6,8]\n",
        "    i=int(input(\"Enter the index:\"))\n",
        "    print(l[i])\n",
        "    return 1\n",
        "  except:\n",
        "    print(\"Error occured\")\n",
        "    return 0\n",
        "  finally:\n",
        "    print(\"I am always executed\")\n",
        "\n",
        "x=f()"
      ],
      "metadata": {
        "colab": {
          "base_uri": "https://localhost:8080/"
        },
        "id": "7Nle7Aao-ARC",
        "outputId": "4d30569d-3b95-4745-9501-bef18c4f2a44"
      },
      "execution_count": 7,
      "outputs": [
        {
          "output_type": "stream",
          "name": "stdout",
          "text": [
            "Enter the index:5\n",
            "Error occured\n",
            "I am always executed\n"
          ]
        }
      ]
    },
    {
      "cell_type": "code",
      "source": [
        "salary = int(input(\"Enter salary amount:\"))\n",
        "if not 20000<salary<30000:\n",
        "  raise ValueError(\"Not a valid salary\")"
      ],
      "metadata": {
        "colab": {
          "base_uri": "https://localhost:8080/",
          "height": 217
        },
        "id": "k-q5iEfsBpYg",
        "outputId": "1608719e-d520-46d1-eba9-90cf10068164"
      },
      "execution_count": 10,
      "outputs": [
        {
          "name": "stdout",
          "output_type": "stream",
          "text": [
            "Enter salary amount:5000\n"
          ]
        },
        {
          "output_type": "error",
          "ename": "ValueError",
          "evalue": "ignored",
          "traceback": [
            "\u001b[0;31m---------------------------------------------------------------------------\u001b[0m",
            "\u001b[0;31mValueError\u001b[0m                                Traceback (most recent call last)",
            "\u001b[0;32m<ipython-input-10-af275bd9c830>\u001b[0m in \u001b[0;36m<module>\u001b[0;34m\u001b[0m\n\u001b[1;32m      1\u001b[0m \u001b[0msalary\u001b[0m \u001b[0;34m=\u001b[0m \u001b[0mint\u001b[0m\u001b[0;34m(\u001b[0m\u001b[0minput\u001b[0m\u001b[0;34m(\u001b[0m\u001b[0;34m\"Enter salary amount:\"\u001b[0m\u001b[0;34m)\u001b[0m\u001b[0;34m)\u001b[0m\u001b[0;34m\u001b[0m\u001b[0;34m\u001b[0m\u001b[0m\n\u001b[1;32m      2\u001b[0m \u001b[0;32mif\u001b[0m \u001b[0;32mnot\u001b[0m \u001b[0;36m20000\u001b[0m\u001b[0;34m<\u001b[0m\u001b[0msalary\u001b[0m\u001b[0;34m<\u001b[0m\u001b[0;36m30000\u001b[0m\u001b[0;34m:\u001b[0m\u001b[0;34m\u001b[0m\u001b[0;34m\u001b[0m\u001b[0m\n\u001b[0;32m----> 3\u001b[0;31m   \u001b[0;32mraise\u001b[0m \u001b[0mValueError\u001b[0m\u001b[0;34m(\u001b[0m\u001b[0;34m\"Not a valid salary\"\u001b[0m\u001b[0;34m)\u001b[0m\u001b[0;34m\u001b[0m\u001b[0;34m\u001b[0m\u001b[0m\n\u001b[0m",
            "\u001b[0;31mValueError\u001b[0m: Not a valid salary"
          ]
        }
      ]
    },
    {
      "cell_type": "markdown",
      "source": [
        "######Q5.\n",
        "######Ans:\n",
        "###### In python we can raise custom errors by using the raise keyword. Raise is reserved keyword, which can call your exception class.\n",
        "##### In python we can define custom exceptions by creating a new class that is derived from the built in exception class."
      ],
      "metadata": {
        "id": "ilWnrPicJ9b-"
      }
    },
    {
      "cell_type": "code",
      "source": [
        "class validateage(Exception): \n",
        "    def __init__(self, msg):\n",
        "        self.msg = msg\n",
        "def validate_age(age): \n",
        "    if age < 0: \n",
        "        raise validateage(\"age should not be lesser then zeor \" )\n",
        "    elif age > 200: \n",
        "        raise validateage(\"age is too high \" )\n",
        "        \n",
        "    else :\n",
        "        print(\"age is valid\" )\n",
        "try : \n",
        "    age = int(input(\"enter your age\"))\n",
        "    validate_age(age)\n",
        "except validateage as e : \n",
        "    print(e)"
      ],
      "metadata": {
        "colab": {
          "base_uri": "https://localhost:8080/"
        },
        "id": "XLugUjZMJ9D8",
        "outputId": "2c796891-82a9-41a2-af13-1e6a8ad285ff"
      },
      "execution_count": 14,
      "outputs": [
        {
          "output_type": "stream",
          "name": "stdout",
          "text": [
            "enter your age78\n",
            "age is valid\n"
          ]
        }
      ]
    },
    {
      "cell_type": "markdown",
      "source": [
        "#####Q6.\n",
        "#####Ans:"
      ],
      "metadata": {
        "id": "anxueTmzLxrL"
      }
    },
    {
      "cell_type": "code",
      "source": [
        "class CustomException(Exception):\n",
        "    def __init__(self, message):\n",
        "        self.message = message\n",
        "\n",
        "def divide(x, y):\n",
        "    if y == 0:\n",
        "        raise CustomException(\"Error: division by zero.\")\n",
        "    return x / y\n",
        "\n",
        "try:\n",
        "    result = divide(10,0)\n",
        "    print(result)\n",
        "except CustomException as e:\n",
        "    print(e.message)\n"
      ],
      "metadata": {
        "colab": {
          "base_uri": "https://localhost:8080/"
        },
        "id": "tF0s7EyPL4EQ",
        "outputId": "733adf71-4d97-4761-ddb3-8d29f831c408"
      },
      "execution_count": 17,
      "outputs": [
        {
          "output_type": "stream",
          "name": "stdout",
          "text": [
            "Error: division by zero.\n"
          ]
        }
      ]
    }
  ]
}